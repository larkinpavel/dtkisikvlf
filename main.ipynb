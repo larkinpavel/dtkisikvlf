{
 "cells": [
  {
   "cell_type": "code",
   "execution_count": 1,
   "metadata": {},
   "outputs": [],
   "source": [
    "from main import *"
   ]
  },
  {
   "cell_type": "code",
   "execution_count": 2,
   "metadata": {},
   "outputs": [],
   "source": [
    "test_cases = [\n",
    "    [\n",
    "       [\n",
    "            [2, 5, 20, True],\n",
    "            [2, 10, 30, True],\n",
    "            [3, 8, 0, True],\n",
    "            [3, 0, 40, False]\n",
    "        ],\n",
    "        [3, 8, 40],\n",
    "        False  \n",
    "    ],\n",
    "    [\n",
    "       [\n",
    "            [2, 5, 20, True],\n",
    "            [2, 10, 30, True],\n",
    "            [3, 8, 0, False],\n",
    "            [3, 0, 40, True]\n",
    "        ],\n",
    "        [3, 8, 40],\n",
    "        True  \n",
    "    ],\n",
    "    [\n",
    "       [\n",
    "            [2, 5, 20, True],\n",
    "            [3, 0, 0, False],\n",
    "            [3, 8, 0, False],\n",
    "            [3, 8, 40, True]\n",
    "        ],\n",
    "        [3, 8, 40],\n",
    "        True  \n",
    "    ],\n",
    "    [\n",
    "       [\n",
    "            [2, 5, 20, True],\n",
    "            [3, 0, 0, False],\n",
    "            [3, 8, 0, False],\n",
    "            [3, 8, 40, True]\n",
    "        ],\n",
    "        [123, 124, 125],\n",
    "        False  \n",
    "    ],\n",
    "    [\n",
    "       [\n",
    "            [0, 0, 0, True]\n",
    "        ],\n",
    "        [1, 1, 1],\n",
    "        False  \n",
    "    ],\n",
    "    [\n",
    "        [\n",
    "            [0, 8, 0, True],\n",
    "        ],\n",
    "        [3, 8, 40],\n",
    "        False  \n",
    "    ],\n",
    "     [\n",
    "        [\n",
    "            [0, 8, 20, True],\n",
    "        ],\n",
    "        [3, 8, 20],\n",
    "        False  \n",
    "    ],\n",
    "]"
   ]
  },
  {
   "cell_type": "code",
   "execution_count": 3,
   "metadata": {},
   "outputs": [
    {
     "ename": "NameError",
     "evalue": "name 'populate_repository' is not defined",
     "output_type": "error",
     "traceback": [
      "\u001b[1;31m---------------------------------------------------------------------------\u001b[0m",
      "\u001b[1;31mNameError\u001b[0m                                 Traceback (most recent call last)",
      "\u001b[1;32m<ipython-input-3-220476576d78>\u001b[0m in \u001b[0;36m<module>\u001b[1;34m\u001b[0m\n\u001b[1;32m----> 1\u001b[1;33m \u001b[0mrun_test\u001b[0m\u001b[1;33m(\u001b[0m\u001b[0mtest_cases\u001b[0m\u001b[1;33m)\u001b[0m\u001b[1;33m\u001b[0m\u001b[1;33m\u001b[0m\u001b[0m\n\u001b[0m",
      "\u001b[1;32m~\\Desktop\\PromotionalOfferConfiguration\\main.py\u001b[0m in \u001b[0;36mrun_test\u001b[1;34m(test_cases)\u001b[0m\n\u001b[0;32m     21\u001b[0m         \u001b[0mrepository\u001b[0m \u001b[1;33m=\u001b[0m \u001b[0mTestPromotionalOfferConfigurationRepository\u001b[0m\u001b[1;33m(\u001b[0m\u001b[1;33m)\u001b[0m\u001b[1;33m\u001b[0m\u001b[1;33m\u001b[0m\u001b[0m\n\u001b[0;32m     22\u001b[0m         \u001b[0mdata\u001b[0m \u001b[1;33m=\u001b[0m \u001b[0mtest_case\u001b[0m\u001b[1;33m[\u001b[0m\u001b[1;36m0\u001b[0m\u001b[1;33m]\u001b[0m\u001b[1;33m\u001b[0m\u001b[1;33m\u001b[0m\u001b[0m\n\u001b[1;32m---> 23\u001b[1;33m         \u001b[0mpopulate_repository\u001b[0m\u001b[1;33m(\u001b[0m\u001b[0mrepository\u001b[0m\u001b[1;33m,\u001b[0m \u001b[0mdata\u001b[0m\u001b[1;33m)\u001b[0m\u001b[1;33m\u001b[0m\u001b[1;33m\u001b[0m\u001b[0m\n\u001b[0m\u001b[0;32m     24\u001b[0m         \u001b[0mdf\u001b[0m \u001b[1;33m=\u001b[0m \u001b[0mpd\u001b[0m\u001b[1;33m.\u001b[0m\u001b[0mDataFrame\u001b[0m\u001b[1;33m(\u001b[0m\u001b[0mdata\u001b[0m\u001b[1;33m,\u001b[0m \u001b[0mcolumns\u001b[0m\u001b[1;33m=\u001b[0m\u001b[1;33m[\u001b[0m\u001b[1;34m\"Card Type\"\u001b[0m\u001b[1;33m,\u001b[0m \u001b[1;34m\"Region\"\u001b[0m\u001b[1;33m,\u001b[0m \u001b[1;34m\"Merchant ID\"\u001b[0m\u001b[1;33m,\u001b[0m \u001b[1;34m\"Is enabled\"\u001b[0m\u001b[1;33m]\u001b[0m\u001b[1;33m)\u001b[0m\u001b[1;33m\u001b[0m\u001b[1;33m\u001b[0m\u001b[0m\n\u001b[0;32m     25\u001b[0m         \u001b[0ms\u001b[0m \u001b[1;33m=\u001b[0m \u001b[0mdf\u001b[0m\u001b[1;33m.\u001b[0m\u001b[0mstyle\u001b[0m\u001b[1;33m.\u001b[0m\u001b[0mapplymap\u001b[0m\u001b[1;33m(\u001b[0m\u001b[0mcolor_true_green_false_red\u001b[0m\u001b[1;33m)\u001b[0m\u001b[1;33m.\u001b[0m\u001b[0mhide_index\u001b[0m\u001b[1;33m(\u001b[0m\u001b[1;33m)\u001b[0m\u001b[1;33m\u001b[0m\u001b[1;33m\u001b[0m\u001b[0m\n",
      "\u001b[1;31mNameError\u001b[0m: name 'populate_repository' is not defined"
     ]
    }
   ],
   "source": [
    "run_test(test_cases)"
   ]
  },
  {
   "cell_type": "code",
   "execution_count": null,
   "metadata": {
    "scrolled": true
   },
   "outputs": [],
   "source": []
  }
 ],
 "metadata": {
  "kernelspec": {
   "display_name": "Python 3",
   "language": "python",
   "name": "python3"
  },
  "language_info": {
   "codemirror_mode": {
    "name": "ipython",
    "version": 3
   },
   "file_extension": ".py",
   "mimetype": "text/x-python",
   "name": "python",
   "nbconvert_exporter": "python",
   "pygments_lexer": "ipython3",
   "version": "3.7.6"
  }
 },
 "nbformat": 4,
 "nbformat_minor": 4
}
