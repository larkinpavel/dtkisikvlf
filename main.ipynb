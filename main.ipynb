{
 "cells": [
  {
   "cell_type": "code",
   "execution_count": 1,
   "metadata": {},
   "outputs": [],
   "source": [
    "from promotional_offer_configurator import *\n",
    "import pandas as pd"
   ]
  },
  {
   "cell_type": "code",
   "execution_count": 2,
   "metadata": {},
   "outputs": [],
   "source": [
    "def populate_repository(repository, data):\n",
    "    for item in data:\n",
    "        configuration = PromotionalOfferConfiguration()\n",
    "        configuration.card_type = item[0]\n",
    "        configuration.region = item[1]\n",
    "        configuration.merchant_id = item[2]\n",
    "        configuration.is_enabled = item[3]\n",
    "        repository.create(configuration)\n",
    "        \n",
    "def color_true_green_false_red(value):\n",
    "    color = 'black'\n",
    "    if type(value) == type(True):\n",
    "        if value == True:\n",
    "            color = 'green'\n",
    "        if value == False:\n",
    "            color = 'red'\n",
    "    return f'color: {color}'\n",
    "        \n",
    "        \n",
    "test_cases = [\n",
    "    [\n",
    "       [\n",
    "            [2, 5, 20, True],\n",
    "            [2, 10, 30, True],\n",
    "            [3, 8, 0, True],\n",
    "            [3, 0, 40, False]\n",
    "        ],\n",
    "        [3, 8, 40],\n",
    "        False  \n",
    "    ],\n",
    "    [\n",
    "       [\n",
    "            [2, 5, 20, True],\n",
    "            [2, 10, 30, True],\n",
    "            [3, 8, 0, False],\n",
    "            [3, 0, 40, True]\n",
    "        ],\n",
    "        [3, 8, 40],\n",
    "        True  \n",
    "    ],\n",
    "    [\n",
    "       [\n",
    "            [2, 5, 20, True],\n",
    "            [3, 0, 0, False],\n",
    "            [3, 8, 0, False],\n",
    "            [3, 8, 40, True]\n",
    "        ],\n",
    "        [3, 8, 40],\n",
    "        True  \n",
    "    ],\n",
    "    [\n",
    "       [\n",
    "            [2, 5, 20, True],\n",
    "            [3, 0, 0, False],\n",
    "            [3, 8, 0, False],\n",
    "            [3, 8, 40, True]\n",
    "        ],\n",
    "        [123, 124, 125],\n",
    "        False  \n",
    "    ],\n",
    "    [\n",
    "       [\n",
    "            [0, 0, 0, True]\n",
    "        ],\n",
    "        [1, 1, 1],\n",
    "        False  \n",
    "    ],\n",
    "    [\n",
    "        [\n",
    "            [0, 8, 0, True],\n",
    "        ],\n",
    "        [3, 8, 40],\n",
    "        False  \n",
    "    ],\n",
    "     [\n",
    "        [\n",
    "            [0, 8, 20, True],\n",
    "        ],\n",
    "        [3, 8, 20],\n",
    "        False  \n",
    "    ],\n",
    "]"
   ]
  },
  {
   "cell_type": "code",
   "execution_count": 3,
   "metadata": {},
   "outputs": [
    {
     "data": {
      "text/html": [
       "<style  type=\"text/css\" >\n",
       "    #T_b66e1fd4_6f49_11ea_a8fd_5cc5d4d41a42row0_col0 {\n",
       "            color:  black;\n",
       "        }    #T_b66e1fd4_6f49_11ea_a8fd_5cc5d4d41a42row0_col1 {\n",
       "            color:  black;\n",
       "        }    #T_b66e1fd4_6f49_11ea_a8fd_5cc5d4d41a42row0_col2 {\n",
       "            color:  black;\n",
       "        }    #T_b66e1fd4_6f49_11ea_a8fd_5cc5d4d41a42row0_col3 {\n",
       "            color:  green;\n",
       "        }    #T_b66e1fd4_6f49_11ea_a8fd_5cc5d4d41a42row1_col0 {\n",
       "            color:  black;\n",
       "        }    #T_b66e1fd4_6f49_11ea_a8fd_5cc5d4d41a42row1_col1 {\n",
       "            color:  black;\n",
       "        }    #T_b66e1fd4_6f49_11ea_a8fd_5cc5d4d41a42row1_col2 {\n",
       "            color:  black;\n",
       "        }    #T_b66e1fd4_6f49_11ea_a8fd_5cc5d4d41a42row1_col3 {\n",
       "            color:  green;\n",
       "        }    #T_b66e1fd4_6f49_11ea_a8fd_5cc5d4d41a42row2_col0 {\n",
       "            color:  black;\n",
       "        }    #T_b66e1fd4_6f49_11ea_a8fd_5cc5d4d41a42row2_col1 {\n",
       "            color:  black;\n",
       "        }    #T_b66e1fd4_6f49_11ea_a8fd_5cc5d4d41a42row2_col2 {\n",
       "            color:  black;\n",
       "        }    #T_b66e1fd4_6f49_11ea_a8fd_5cc5d4d41a42row2_col3 {\n",
       "            color:  green;\n",
       "        }    #T_b66e1fd4_6f49_11ea_a8fd_5cc5d4d41a42row3_col0 {\n",
       "            color:  black;\n",
       "        }    #T_b66e1fd4_6f49_11ea_a8fd_5cc5d4d41a42row3_col1 {\n",
       "            color:  black;\n",
       "        }    #T_b66e1fd4_6f49_11ea_a8fd_5cc5d4d41a42row3_col2 {\n",
       "            color:  black;\n",
       "        }    #T_b66e1fd4_6f49_11ea_a8fd_5cc5d4d41a42row3_col3 {\n",
       "            color:  red;\n",
       "        }</style><table id=\"T_b66e1fd4_6f49_11ea_a8fd_5cc5d4d41a42\" ><thead>    <tr>        <th class=\"col_heading level0 col0\" >Card Type</th>        <th class=\"col_heading level0 col1\" >Region</th>        <th class=\"col_heading level0 col2\" >Merchant ID</th>        <th class=\"col_heading level0 col3\" >Is enabled</th>    </tr></thead><tbody>\n",
       "                <tr>\n",
       "                                <td id=\"T_b66e1fd4_6f49_11ea_a8fd_5cc5d4d41a42row0_col0\" class=\"data row0 col0\" >2</td>\n",
       "                        <td id=\"T_b66e1fd4_6f49_11ea_a8fd_5cc5d4d41a42row0_col1\" class=\"data row0 col1\" >5</td>\n",
       "                        <td id=\"T_b66e1fd4_6f49_11ea_a8fd_5cc5d4d41a42row0_col2\" class=\"data row0 col2\" >20</td>\n",
       "                        <td id=\"T_b66e1fd4_6f49_11ea_a8fd_5cc5d4d41a42row0_col3\" class=\"data row0 col3\" >True</td>\n",
       "            </tr>\n",
       "            <tr>\n",
       "                                <td id=\"T_b66e1fd4_6f49_11ea_a8fd_5cc5d4d41a42row1_col0\" class=\"data row1 col0\" >2</td>\n",
       "                        <td id=\"T_b66e1fd4_6f49_11ea_a8fd_5cc5d4d41a42row1_col1\" class=\"data row1 col1\" >10</td>\n",
       "                        <td id=\"T_b66e1fd4_6f49_11ea_a8fd_5cc5d4d41a42row1_col2\" class=\"data row1 col2\" >30</td>\n",
       "                        <td id=\"T_b66e1fd4_6f49_11ea_a8fd_5cc5d4d41a42row1_col3\" class=\"data row1 col3\" >True</td>\n",
       "            </tr>\n",
       "            <tr>\n",
       "                                <td id=\"T_b66e1fd4_6f49_11ea_a8fd_5cc5d4d41a42row2_col0\" class=\"data row2 col0\" >3</td>\n",
       "                        <td id=\"T_b66e1fd4_6f49_11ea_a8fd_5cc5d4d41a42row2_col1\" class=\"data row2 col1\" >8</td>\n",
       "                        <td id=\"T_b66e1fd4_6f49_11ea_a8fd_5cc5d4d41a42row2_col2\" class=\"data row2 col2\" >0</td>\n",
       "                        <td id=\"T_b66e1fd4_6f49_11ea_a8fd_5cc5d4d41a42row2_col3\" class=\"data row2 col3\" >True</td>\n",
       "            </tr>\n",
       "            <tr>\n",
       "                                <td id=\"T_b66e1fd4_6f49_11ea_a8fd_5cc5d4d41a42row3_col0\" class=\"data row3 col0\" >3</td>\n",
       "                        <td id=\"T_b66e1fd4_6f49_11ea_a8fd_5cc5d4d41a42row3_col1\" class=\"data row3 col1\" >0</td>\n",
       "                        <td id=\"T_b66e1fd4_6f49_11ea_a8fd_5cc5d4d41a42row3_col2\" class=\"data row3 col2\" >40</td>\n",
       "                        <td id=\"T_b66e1fd4_6f49_11ea_a8fd_5cc5d4d41a42row3_col3\" class=\"data row3 col3\" >False</td>\n",
       "            </tr>\n",
       "    </tbody></table>"
      ],
      "text/plain": [
       "<pandas.io.formats.style.Styler at 0x1a92067d108>"
      ]
     },
     "metadata": {},
     "output_type": "display_data"
    },
    {
     "name": "stdout",
     "output_type": "stream",
     "text": [
      "Is configured: card type = 3, region = 8, merchant ID = 40?\n",
      "Expected: False, actual: False\n"
     ]
    },
    {
     "data": {
      "text/html": [
       "<style  type=\"text/css\" >\n",
       "    #T_b6708264_6f49_11ea_856a_5cc5d4d41a42row0_col0 {\n",
       "            color:  black;\n",
       "        }    #T_b6708264_6f49_11ea_856a_5cc5d4d41a42row0_col1 {\n",
       "            color:  black;\n",
       "        }    #T_b6708264_6f49_11ea_856a_5cc5d4d41a42row0_col2 {\n",
       "            color:  black;\n",
       "        }    #T_b6708264_6f49_11ea_856a_5cc5d4d41a42row0_col3 {\n",
       "            color:  green;\n",
       "        }    #T_b6708264_6f49_11ea_856a_5cc5d4d41a42row1_col0 {\n",
       "            color:  black;\n",
       "        }    #T_b6708264_6f49_11ea_856a_5cc5d4d41a42row1_col1 {\n",
       "            color:  black;\n",
       "        }    #T_b6708264_6f49_11ea_856a_5cc5d4d41a42row1_col2 {\n",
       "            color:  black;\n",
       "        }    #T_b6708264_6f49_11ea_856a_5cc5d4d41a42row1_col3 {\n",
       "            color:  green;\n",
       "        }    #T_b6708264_6f49_11ea_856a_5cc5d4d41a42row2_col0 {\n",
       "            color:  black;\n",
       "        }    #T_b6708264_6f49_11ea_856a_5cc5d4d41a42row2_col1 {\n",
       "            color:  black;\n",
       "        }    #T_b6708264_6f49_11ea_856a_5cc5d4d41a42row2_col2 {\n",
       "            color:  black;\n",
       "        }    #T_b6708264_6f49_11ea_856a_5cc5d4d41a42row2_col3 {\n",
       "            color:  red;\n",
       "        }    #T_b6708264_6f49_11ea_856a_5cc5d4d41a42row3_col0 {\n",
       "            color:  black;\n",
       "        }    #T_b6708264_6f49_11ea_856a_5cc5d4d41a42row3_col1 {\n",
       "            color:  black;\n",
       "        }    #T_b6708264_6f49_11ea_856a_5cc5d4d41a42row3_col2 {\n",
       "            color:  black;\n",
       "        }    #T_b6708264_6f49_11ea_856a_5cc5d4d41a42row3_col3 {\n",
       "            color:  green;\n",
       "        }</style><table id=\"T_b6708264_6f49_11ea_856a_5cc5d4d41a42\" ><thead>    <tr>        <th class=\"col_heading level0 col0\" >Card Type</th>        <th class=\"col_heading level0 col1\" >Region</th>        <th class=\"col_heading level0 col2\" >Merchant ID</th>        <th class=\"col_heading level0 col3\" >Is enabled</th>    </tr></thead><tbody>\n",
       "                <tr>\n",
       "                                <td id=\"T_b6708264_6f49_11ea_856a_5cc5d4d41a42row0_col0\" class=\"data row0 col0\" >2</td>\n",
       "                        <td id=\"T_b6708264_6f49_11ea_856a_5cc5d4d41a42row0_col1\" class=\"data row0 col1\" >5</td>\n",
       "                        <td id=\"T_b6708264_6f49_11ea_856a_5cc5d4d41a42row0_col2\" class=\"data row0 col2\" >20</td>\n",
       "                        <td id=\"T_b6708264_6f49_11ea_856a_5cc5d4d41a42row0_col3\" class=\"data row0 col3\" >True</td>\n",
       "            </tr>\n",
       "            <tr>\n",
       "                                <td id=\"T_b6708264_6f49_11ea_856a_5cc5d4d41a42row1_col0\" class=\"data row1 col0\" >2</td>\n",
       "                        <td id=\"T_b6708264_6f49_11ea_856a_5cc5d4d41a42row1_col1\" class=\"data row1 col1\" >10</td>\n",
       "                        <td id=\"T_b6708264_6f49_11ea_856a_5cc5d4d41a42row1_col2\" class=\"data row1 col2\" >30</td>\n",
       "                        <td id=\"T_b6708264_6f49_11ea_856a_5cc5d4d41a42row1_col3\" class=\"data row1 col3\" >True</td>\n",
       "            </tr>\n",
       "            <tr>\n",
       "                                <td id=\"T_b6708264_6f49_11ea_856a_5cc5d4d41a42row2_col0\" class=\"data row2 col0\" >3</td>\n",
       "                        <td id=\"T_b6708264_6f49_11ea_856a_5cc5d4d41a42row2_col1\" class=\"data row2 col1\" >8</td>\n",
       "                        <td id=\"T_b6708264_6f49_11ea_856a_5cc5d4d41a42row2_col2\" class=\"data row2 col2\" >0</td>\n",
       "                        <td id=\"T_b6708264_6f49_11ea_856a_5cc5d4d41a42row2_col3\" class=\"data row2 col3\" >False</td>\n",
       "            </tr>\n",
       "            <tr>\n",
       "                                <td id=\"T_b6708264_6f49_11ea_856a_5cc5d4d41a42row3_col0\" class=\"data row3 col0\" >3</td>\n",
       "                        <td id=\"T_b6708264_6f49_11ea_856a_5cc5d4d41a42row3_col1\" class=\"data row3 col1\" >0</td>\n",
       "                        <td id=\"T_b6708264_6f49_11ea_856a_5cc5d4d41a42row3_col2\" class=\"data row3 col2\" >40</td>\n",
       "                        <td id=\"T_b6708264_6f49_11ea_856a_5cc5d4d41a42row3_col3\" class=\"data row3 col3\" >True</td>\n",
       "            </tr>\n",
       "    </tbody></table>"
      ],
      "text/plain": [
       "<pandas.io.formats.style.Styler at 0x1a91e5226c8>"
      ]
     },
     "metadata": {},
     "output_type": "display_data"
    },
    {
     "name": "stdout",
     "output_type": "stream",
     "text": [
      "Is configured: card type = 3, region = 8, merchant ID = 40?\n",
      "Expected: True, actual: True\n"
     ]
    },
    {
     "data": {
      "text/html": [
       "<style  type=\"text/css\" >\n",
       "    #T_b672e480_6f49_11ea_b190_5cc5d4d41a42row0_col0 {\n",
       "            color:  black;\n",
       "        }    #T_b672e480_6f49_11ea_b190_5cc5d4d41a42row0_col1 {\n",
       "            color:  black;\n",
       "        }    #T_b672e480_6f49_11ea_b190_5cc5d4d41a42row0_col2 {\n",
       "            color:  black;\n",
       "        }    #T_b672e480_6f49_11ea_b190_5cc5d4d41a42row0_col3 {\n",
       "            color:  green;\n",
       "        }    #T_b672e480_6f49_11ea_b190_5cc5d4d41a42row1_col0 {\n",
       "            color:  black;\n",
       "        }    #T_b672e480_6f49_11ea_b190_5cc5d4d41a42row1_col1 {\n",
       "            color:  black;\n",
       "        }    #T_b672e480_6f49_11ea_b190_5cc5d4d41a42row1_col2 {\n",
       "            color:  black;\n",
       "        }    #T_b672e480_6f49_11ea_b190_5cc5d4d41a42row1_col3 {\n",
       "            color:  red;\n",
       "        }    #T_b672e480_6f49_11ea_b190_5cc5d4d41a42row2_col0 {\n",
       "            color:  black;\n",
       "        }    #T_b672e480_6f49_11ea_b190_5cc5d4d41a42row2_col1 {\n",
       "            color:  black;\n",
       "        }    #T_b672e480_6f49_11ea_b190_5cc5d4d41a42row2_col2 {\n",
       "            color:  black;\n",
       "        }    #T_b672e480_6f49_11ea_b190_5cc5d4d41a42row2_col3 {\n",
       "            color:  red;\n",
       "        }    #T_b672e480_6f49_11ea_b190_5cc5d4d41a42row3_col0 {\n",
       "            color:  black;\n",
       "        }    #T_b672e480_6f49_11ea_b190_5cc5d4d41a42row3_col1 {\n",
       "            color:  black;\n",
       "        }    #T_b672e480_6f49_11ea_b190_5cc5d4d41a42row3_col2 {\n",
       "            color:  black;\n",
       "        }    #T_b672e480_6f49_11ea_b190_5cc5d4d41a42row3_col3 {\n",
       "            color:  green;\n",
       "        }</style><table id=\"T_b672e480_6f49_11ea_b190_5cc5d4d41a42\" ><thead>    <tr>        <th class=\"col_heading level0 col0\" >Card Type</th>        <th class=\"col_heading level0 col1\" >Region</th>        <th class=\"col_heading level0 col2\" >Merchant ID</th>        <th class=\"col_heading level0 col3\" >Is enabled</th>    </tr></thead><tbody>\n",
       "                <tr>\n",
       "                                <td id=\"T_b672e480_6f49_11ea_b190_5cc5d4d41a42row0_col0\" class=\"data row0 col0\" >2</td>\n",
       "                        <td id=\"T_b672e480_6f49_11ea_b190_5cc5d4d41a42row0_col1\" class=\"data row0 col1\" >5</td>\n",
       "                        <td id=\"T_b672e480_6f49_11ea_b190_5cc5d4d41a42row0_col2\" class=\"data row0 col2\" >20</td>\n",
       "                        <td id=\"T_b672e480_6f49_11ea_b190_5cc5d4d41a42row0_col3\" class=\"data row0 col3\" >True</td>\n",
       "            </tr>\n",
       "            <tr>\n",
       "                                <td id=\"T_b672e480_6f49_11ea_b190_5cc5d4d41a42row1_col0\" class=\"data row1 col0\" >3</td>\n",
       "                        <td id=\"T_b672e480_6f49_11ea_b190_5cc5d4d41a42row1_col1\" class=\"data row1 col1\" >0</td>\n",
       "                        <td id=\"T_b672e480_6f49_11ea_b190_5cc5d4d41a42row1_col2\" class=\"data row1 col2\" >0</td>\n",
       "                        <td id=\"T_b672e480_6f49_11ea_b190_5cc5d4d41a42row1_col3\" class=\"data row1 col3\" >False</td>\n",
       "            </tr>\n",
       "            <tr>\n",
       "                                <td id=\"T_b672e480_6f49_11ea_b190_5cc5d4d41a42row2_col0\" class=\"data row2 col0\" >3</td>\n",
       "                        <td id=\"T_b672e480_6f49_11ea_b190_5cc5d4d41a42row2_col1\" class=\"data row2 col1\" >8</td>\n",
       "                        <td id=\"T_b672e480_6f49_11ea_b190_5cc5d4d41a42row2_col2\" class=\"data row2 col2\" >0</td>\n",
       "                        <td id=\"T_b672e480_6f49_11ea_b190_5cc5d4d41a42row2_col3\" class=\"data row2 col3\" >False</td>\n",
       "            </tr>\n",
       "            <tr>\n",
       "                                <td id=\"T_b672e480_6f49_11ea_b190_5cc5d4d41a42row3_col0\" class=\"data row3 col0\" >3</td>\n",
       "                        <td id=\"T_b672e480_6f49_11ea_b190_5cc5d4d41a42row3_col1\" class=\"data row3 col1\" >8</td>\n",
       "                        <td id=\"T_b672e480_6f49_11ea_b190_5cc5d4d41a42row3_col2\" class=\"data row3 col2\" >40</td>\n",
       "                        <td id=\"T_b672e480_6f49_11ea_b190_5cc5d4d41a42row3_col3\" class=\"data row3 col3\" >True</td>\n",
       "            </tr>\n",
       "    </tbody></table>"
      ],
      "text/plain": [
       "<pandas.io.formats.style.Styler at 0x1a92140bb48>"
      ]
     },
     "metadata": {},
     "output_type": "display_data"
    },
    {
     "name": "stdout",
     "output_type": "stream",
     "text": [
      "Is configured: card type = 3, region = 8, merchant ID = 40?\n",
      "Expected: True, actual: True\n"
     ]
    },
    {
     "data": {
      "text/html": [
       "<style  type=\"text/css\" >\n",
       "    #T_b672e481_6f49_11ea_8bd8_5cc5d4d41a42row0_col0 {\n",
       "            color:  black;\n",
       "        }    #T_b672e481_6f49_11ea_8bd8_5cc5d4d41a42row0_col1 {\n",
       "            color:  black;\n",
       "        }    #T_b672e481_6f49_11ea_8bd8_5cc5d4d41a42row0_col2 {\n",
       "            color:  black;\n",
       "        }    #T_b672e481_6f49_11ea_8bd8_5cc5d4d41a42row0_col3 {\n",
       "            color:  green;\n",
       "        }    #T_b672e481_6f49_11ea_8bd8_5cc5d4d41a42row1_col0 {\n",
       "            color:  black;\n",
       "        }    #T_b672e481_6f49_11ea_8bd8_5cc5d4d41a42row1_col1 {\n",
       "            color:  black;\n",
       "        }    #T_b672e481_6f49_11ea_8bd8_5cc5d4d41a42row1_col2 {\n",
       "            color:  black;\n",
       "        }    #T_b672e481_6f49_11ea_8bd8_5cc5d4d41a42row1_col3 {\n",
       "            color:  red;\n",
       "        }    #T_b672e481_6f49_11ea_8bd8_5cc5d4d41a42row2_col0 {\n",
       "            color:  black;\n",
       "        }    #T_b672e481_6f49_11ea_8bd8_5cc5d4d41a42row2_col1 {\n",
       "            color:  black;\n",
       "        }    #T_b672e481_6f49_11ea_8bd8_5cc5d4d41a42row2_col2 {\n",
       "            color:  black;\n",
       "        }    #T_b672e481_6f49_11ea_8bd8_5cc5d4d41a42row2_col3 {\n",
       "            color:  red;\n",
       "        }    #T_b672e481_6f49_11ea_8bd8_5cc5d4d41a42row3_col0 {\n",
       "            color:  black;\n",
       "        }    #T_b672e481_6f49_11ea_8bd8_5cc5d4d41a42row3_col1 {\n",
       "            color:  black;\n",
       "        }    #T_b672e481_6f49_11ea_8bd8_5cc5d4d41a42row3_col2 {\n",
       "            color:  black;\n",
       "        }    #T_b672e481_6f49_11ea_8bd8_5cc5d4d41a42row3_col3 {\n",
       "            color:  green;\n",
       "        }</style><table id=\"T_b672e481_6f49_11ea_8bd8_5cc5d4d41a42\" ><thead>    <tr>        <th class=\"col_heading level0 col0\" >Card Type</th>        <th class=\"col_heading level0 col1\" >Region</th>        <th class=\"col_heading level0 col2\" >Merchant ID</th>        <th class=\"col_heading level0 col3\" >Is enabled</th>    </tr></thead><tbody>\n",
       "                <tr>\n",
       "                                <td id=\"T_b672e481_6f49_11ea_8bd8_5cc5d4d41a42row0_col0\" class=\"data row0 col0\" >2</td>\n",
       "                        <td id=\"T_b672e481_6f49_11ea_8bd8_5cc5d4d41a42row0_col1\" class=\"data row0 col1\" >5</td>\n",
       "                        <td id=\"T_b672e481_6f49_11ea_8bd8_5cc5d4d41a42row0_col2\" class=\"data row0 col2\" >20</td>\n",
       "                        <td id=\"T_b672e481_6f49_11ea_8bd8_5cc5d4d41a42row0_col3\" class=\"data row0 col3\" >True</td>\n",
       "            </tr>\n",
       "            <tr>\n",
       "                                <td id=\"T_b672e481_6f49_11ea_8bd8_5cc5d4d41a42row1_col0\" class=\"data row1 col0\" >3</td>\n",
       "                        <td id=\"T_b672e481_6f49_11ea_8bd8_5cc5d4d41a42row1_col1\" class=\"data row1 col1\" >0</td>\n",
       "                        <td id=\"T_b672e481_6f49_11ea_8bd8_5cc5d4d41a42row1_col2\" class=\"data row1 col2\" >0</td>\n",
       "                        <td id=\"T_b672e481_6f49_11ea_8bd8_5cc5d4d41a42row1_col3\" class=\"data row1 col3\" >False</td>\n",
       "            </tr>\n",
       "            <tr>\n",
       "                                <td id=\"T_b672e481_6f49_11ea_8bd8_5cc5d4d41a42row2_col0\" class=\"data row2 col0\" >3</td>\n",
       "                        <td id=\"T_b672e481_6f49_11ea_8bd8_5cc5d4d41a42row2_col1\" class=\"data row2 col1\" >8</td>\n",
       "                        <td id=\"T_b672e481_6f49_11ea_8bd8_5cc5d4d41a42row2_col2\" class=\"data row2 col2\" >0</td>\n",
       "                        <td id=\"T_b672e481_6f49_11ea_8bd8_5cc5d4d41a42row2_col3\" class=\"data row2 col3\" >False</td>\n",
       "            </tr>\n",
       "            <tr>\n",
       "                                <td id=\"T_b672e481_6f49_11ea_8bd8_5cc5d4d41a42row3_col0\" class=\"data row3 col0\" >3</td>\n",
       "                        <td id=\"T_b672e481_6f49_11ea_8bd8_5cc5d4d41a42row3_col1\" class=\"data row3 col1\" >8</td>\n",
       "                        <td id=\"T_b672e481_6f49_11ea_8bd8_5cc5d4d41a42row3_col2\" class=\"data row3 col2\" >40</td>\n",
       "                        <td id=\"T_b672e481_6f49_11ea_8bd8_5cc5d4d41a42row3_col3\" class=\"data row3 col3\" >True</td>\n",
       "            </tr>\n",
       "    </tbody></table>"
      ],
      "text/plain": [
       "<pandas.io.formats.style.Styler at 0x1a9213e42c8>"
      ]
     },
     "metadata": {},
     "output_type": "display_data"
    },
    {
     "name": "stdout",
     "output_type": "stream",
     "text": [
      "Is configured: card type = 123, region = 124, merchant ID = 125?\n",
      "Expected: False, actual: False\n"
     ]
    },
    {
     "data": {
      "text/html": [
       "<style  type=\"text/css\" >\n",
       "    #T_b6754614_6f49_11ea_89e5_5cc5d4d41a42row0_col0 {\n",
       "            color:  black;\n",
       "        }    #T_b6754614_6f49_11ea_89e5_5cc5d4d41a42row0_col1 {\n",
       "            color:  black;\n",
       "        }    #T_b6754614_6f49_11ea_89e5_5cc5d4d41a42row0_col2 {\n",
       "            color:  black;\n",
       "        }    #T_b6754614_6f49_11ea_89e5_5cc5d4d41a42row0_col3 {\n",
       "            color:  green;\n",
       "        }</style><table id=\"T_b6754614_6f49_11ea_89e5_5cc5d4d41a42\" ><thead>    <tr>        <th class=\"col_heading level0 col0\" >Card Type</th>        <th class=\"col_heading level0 col1\" >Region</th>        <th class=\"col_heading level0 col2\" >Merchant ID</th>        <th class=\"col_heading level0 col3\" >Is enabled</th>    </tr></thead><tbody>\n",
       "                <tr>\n",
       "                                <td id=\"T_b6754614_6f49_11ea_89e5_5cc5d4d41a42row0_col0\" class=\"data row0 col0\" >0</td>\n",
       "                        <td id=\"T_b6754614_6f49_11ea_89e5_5cc5d4d41a42row0_col1\" class=\"data row0 col1\" >0</td>\n",
       "                        <td id=\"T_b6754614_6f49_11ea_89e5_5cc5d4d41a42row0_col2\" class=\"data row0 col2\" >0</td>\n",
       "                        <td id=\"T_b6754614_6f49_11ea_89e5_5cc5d4d41a42row0_col3\" class=\"data row0 col3\" >True</td>\n",
       "            </tr>\n",
       "    </tbody></table>"
      ],
      "text/plain": [
       "<pandas.io.formats.style.Styler at 0x1a921443548>"
      ]
     },
     "metadata": {},
     "output_type": "display_data"
    },
    {
     "name": "stdout",
     "output_type": "stream",
     "text": [
      "Is configured: card type = 1, region = 1, merchant ID = 1?\n",
      "Expected: False, actual: False\n"
     ]
    },
    {
     "data": {
      "text/html": [
       "<style  type=\"text/css\" >\n",
       "    #T_b6764452_6f49_11ea_88cb_5cc5d4d41a42row0_col0 {\n",
       "            color:  black;\n",
       "        }    #T_b6764452_6f49_11ea_88cb_5cc5d4d41a42row0_col1 {\n",
       "            color:  black;\n",
       "        }    #T_b6764452_6f49_11ea_88cb_5cc5d4d41a42row0_col2 {\n",
       "            color:  black;\n",
       "        }    #T_b6764452_6f49_11ea_88cb_5cc5d4d41a42row0_col3 {\n",
       "            color:  green;\n",
       "        }</style><table id=\"T_b6764452_6f49_11ea_88cb_5cc5d4d41a42\" ><thead>    <tr>        <th class=\"col_heading level0 col0\" >Card Type</th>        <th class=\"col_heading level0 col1\" >Region</th>        <th class=\"col_heading level0 col2\" >Merchant ID</th>        <th class=\"col_heading level0 col3\" >Is enabled</th>    </tr></thead><tbody>\n",
       "                <tr>\n",
       "                                <td id=\"T_b6764452_6f49_11ea_88cb_5cc5d4d41a42row0_col0\" class=\"data row0 col0\" >0</td>\n",
       "                        <td id=\"T_b6764452_6f49_11ea_88cb_5cc5d4d41a42row0_col1\" class=\"data row0 col1\" >8</td>\n",
       "                        <td id=\"T_b6764452_6f49_11ea_88cb_5cc5d4d41a42row0_col2\" class=\"data row0 col2\" >0</td>\n",
       "                        <td id=\"T_b6764452_6f49_11ea_88cb_5cc5d4d41a42row0_col3\" class=\"data row0 col3\" >True</td>\n",
       "            </tr>\n",
       "    </tbody></table>"
      ],
      "text/plain": [
       "<pandas.io.formats.style.Styler at 0x1a921400a88>"
      ]
     },
     "metadata": {},
     "output_type": "display_data"
    },
    {
     "name": "stdout",
     "output_type": "stream",
     "text": [
      "Is configured: card type = 3, region = 8, merchant ID = 40?\n",
      "Expected: False, actual: False\n"
     ]
    },
    {
     "data": {
      "text/html": [
       "<style  type=\"text/css\" >\n",
       "    #T_b678a6e6_6f49_11ea_871c_5cc5d4d41a42row0_col0 {\n",
       "            color:  black;\n",
       "        }    #T_b678a6e6_6f49_11ea_871c_5cc5d4d41a42row0_col1 {\n",
       "            color:  black;\n",
       "        }    #T_b678a6e6_6f49_11ea_871c_5cc5d4d41a42row0_col2 {\n",
       "            color:  black;\n",
       "        }    #T_b678a6e6_6f49_11ea_871c_5cc5d4d41a42row0_col3 {\n",
       "            color:  green;\n",
       "        }</style><table id=\"T_b678a6e6_6f49_11ea_871c_5cc5d4d41a42\" ><thead>    <tr>        <th class=\"col_heading level0 col0\" >Card Type</th>        <th class=\"col_heading level0 col1\" >Region</th>        <th class=\"col_heading level0 col2\" >Merchant ID</th>        <th class=\"col_heading level0 col3\" >Is enabled</th>    </tr></thead><tbody>\n",
       "                <tr>\n",
       "                                <td id=\"T_b678a6e6_6f49_11ea_871c_5cc5d4d41a42row0_col0\" class=\"data row0 col0\" >0</td>\n",
       "                        <td id=\"T_b678a6e6_6f49_11ea_871c_5cc5d4d41a42row0_col1\" class=\"data row0 col1\" >8</td>\n",
       "                        <td id=\"T_b678a6e6_6f49_11ea_871c_5cc5d4d41a42row0_col2\" class=\"data row0 col2\" >20</td>\n",
       "                        <td id=\"T_b678a6e6_6f49_11ea_871c_5cc5d4d41a42row0_col3\" class=\"data row0 col3\" >True</td>\n",
       "            </tr>\n",
       "    </tbody></table>"
      ],
      "text/plain": [
       "<pandas.io.formats.style.Styler at 0x1a921400948>"
      ]
     },
     "metadata": {},
     "output_type": "display_data"
    },
    {
     "name": "stdout",
     "output_type": "stream",
     "text": [
      "Is configured: card type = 3, region = 8, merchant ID = 20?\n",
      "Expected: False, actual: False\n"
     ]
    }
   ],
   "source": [
    "for test_case in test_cases:\n",
    "    repository = TestPromotionalOfferConfigurationRepository()\n",
    "    data = test_case[0]\n",
    "    populate_repository(repository, data)\n",
    "    df = pd.DataFrame(data, columns=[\"Card Type\", \"Region\", \"Merchant ID\", \"Is enabled\"])\n",
    "    s = df.style.applymap(color_true_green_false_red).hide_index()\n",
    "    display(s)\n",
    "    configurator = PromotionalOfferConfigurator(repository)\n",
    "    card_type = test_case[1][0]\n",
    "    region = test_case[1][1]\n",
    "    merchant_id = test_case[1][2]\n",
    "    actual_result = configurator.is_enabled(card_type, region, merchant_id)\n",
    "    expected_result = test_case[2]\n",
    "    print(f'Is configured: card type = {card_type}, region = {region}, merchant ID = {merchant_id}?')\n",
    "    print(f'Expected: {expected_result}, actual: {actual_result}')"
   ]
  },
  {
   "cell_type": "code",
   "execution_count": null,
   "metadata": {
    "scrolled": true
   },
   "outputs": [],
   "source": []
  }
 ],
 "metadata": {
  "kernelspec": {
   "display_name": "Python 3",
   "language": "python",
   "name": "python3"
  },
  "language_info": {
   "codemirror_mode": {
    "name": "ipython",
    "version": 3
   },
   "file_extension": ".py",
   "mimetype": "text/x-python",
   "name": "python",
   "nbconvert_exporter": "python",
   "pygments_lexer": "ipython3",
   "version": "3.7.6"
  }
 },
 "nbformat": 4,
 "nbformat_minor": 4
}
